{
 "cells": [
  {
   "cell_type": "code",
   "execution_count": 1,
   "metadata": {},
   "outputs": [],
   "source": [
    "import os\n",
    "os.chdir('E:/GitHubProjects/educational/mathematical_modeling/')\n",
    "import glob\n",
    "import sys\n",
    "sys.path.insert(1, 'E:/GitHubProjects/educational/mathematical_modeling/lab2/')\n",
    "\n",
    "import pandas as pd\n",
    "import linear_regression as lin_reg\n",
    "import numpy as np\n",
    "import random\n"
   ]
  },
  {
   "cell_type": "code",
   "execution_count": 69,
   "metadata": {},
   "outputs": [
    {
     "name": "stdout",
     "output_type": "stream",
     "text": [
      "    growth_total  divorce_total  marriage_total  LE_total    GDP  migration\n",
      "0        -239568         669374           26149      67.5  14503     322392\n",
      "1        -129091         669374           26456      69.0  29505     316460\n",
      "2          -4252         644099           24193      69.0  27875     289857\n",
      "3          24013         667969           24498      70.0  19192     301110\n",
      "4          30336         693729           24586      70.0  20810     262929\n",
      "5          32037         611644           23318      70.0  19838     255204\n",
      "6          -2287         608334           19848      71.0  20017     269375\n",
      "7        -135818         611435           20922      72.0  20133     219696\n",
      "8        -224566         583941           17889      72.0  18909     215534\n",
      "9        -317233         620728           19115      72.5  24223     204006\n",
      "10       -702072         564702           15412      70.5  31999     209672\n",
      "11      -1043341         644208           18424      69.5  29986     208059\n",
      "12       -594557         682850           21271      72.0  38507     208494\n",
      "13       -500264         683795           18727      72.5  38115     210107\n"
     ]
    }
   ],
   "source": [
    "data = pd.read_csv('lab2/data/final_dataset.txt', sep=';').drop('Unnamed: 0', axis=1)\n",
    "print(data)"
   ]
  },
  {
   "cell_type": "code",
   "execution_count": 70,
   "metadata": {},
   "outputs": [],
   "source": [
    "multifactor_linear_regression = lin_reg.LinearRegressionAnalysis(data.drop('migration', axis=1), 'growth_total')"
   ]
  },
  {
   "cell_type": "code",
   "execution_count": 71,
   "metadata": {},
   "outputs": [
    {
     "name": "stdout",
     "output_type": "stream",
     "text": [
      "Multicollinearity check:\n",
      "\n",
      "Матрица факторов X:\n",
      "           feature  multicollinearity  tightness response\n",
      "0   divorce_total              False      False        +\n",
      "1  marriage_total              False      False        +\n",
      "2        LE_total              False      False        -\n",
      "3             GDP              False      False        -\n",
      "\n",
      "Матрица факторов с таргетом:\n",
      "                  feature  multicollinearity tightness response\n",
      "0   target_divorce_total              False      None     None\n",
      "1  target_marriage_total              False      None     None\n",
      "2        target_LE_total              False      None     None\n",
      "3             target_GDP              False      None     None\n",
      "\n",
      "Отобранные переменные:\n",
      " ['divorce_total' 'marriage_total' 'LE_total' 'GDP']\n"
     ]
    }
   ],
   "source": [
    "# Выполнение анализа на мультиколлинеарность\n",
    "print(\"Multicollinearity check:\")\n",
    "result_df_X, result_df_df, corr_matrix, true_labels = multifactor_linear_regression.feature_analysis()\n",
    "print(\"\\nМатрица факторов X:\\n\",result_df_X)\n",
    "print(\"\\nМатрица факторов с таргетом:\\n\",result_df_df)\n",
    "print(\"\\nОтобранные переменные:\\n\",true_labels)"
   ]
  },
  {
   "cell_type": "code",
   "execution_count": 72,
   "metadata": {},
   "outputs": [
    {
     "name": "stdout",
     "output_type": "stream",
     "text": [
      "\n",
      "Добавление лага для divorce_total:\n",
      "   growth_total  divorce_total  marriage_total  LE_total    GDP  \\\n",
      "0         -4252         644099           24193      69.0  27875   \n",
      "1         24013         667969           24498      70.0  19192   \n",
      "2         30336         693729           24586      70.0  20810   \n",
      "3         32037         611644           23318      70.0  19838   \n",
      "4         -2287         608334           19848      71.0  20017   \n",
      "\n",
      "   divorce_total_lag1  divorce_total_lag2  \n",
      "0            669374.0            669374.0  \n",
      "1            644099.0            669374.0  \n",
      "2            667969.0            644099.0  \n",
      "3            693729.0            667969.0  \n",
      "4            611644.0            693729.0  \n"
     ]
    }
   ],
   "source": [
    "data_with_lags_X1 = multifactor_linear_regression.add_lag_to_feature(feature_name='divorce_total', max_lag=2)\n",
    "print(\"\\nДобавление лага для divorce_total:\")\n",
    "print(data_with_lags_X1.head())"
   ]
  },
  {
   "cell_type": "code",
   "execution_count": 73,
   "metadata": {},
   "outputs": [
    {
     "name": "stdout",
     "output_type": "stream",
     "text": [
      "Multicollinearity check:\n",
      "\n",
      "Матрица факторов X:\n",
      "               feature  multicollinearity  tightness response\n",
      "0       divorce_total              False      False        +\n",
      "1      marriage_total              False      False        +\n",
      "2            LE_total              False      False        -\n",
      "3                 GDP               True      False        -\n",
      "4  divorce_total_lag1              False      False        +\n",
      "5  divorce_total_lag2              False      False        +\n",
      "\n",
      "Матрица факторов с таргетом:\n",
      "                      feature  multicollinearity tightness response\n",
      "0       target_divorce_total              False      None     None\n",
      "1      target_marriage_total              False      None     None\n",
      "2            target_LE_total              False      None     None\n",
      "3                 target_GDP               True      None     None\n",
      "4  target_divorce_total_lag1              False      None     None\n",
      "5  target_divorce_total_lag2              False      None     None\n",
      "\n",
      "Отобранные переменные:\n",
      " ['divorce_total' 'marriage_total' 'LE_total' 'divorce_total_lag1'\n",
      " 'divorce_total_lag2']\n"
     ]
    }
   ],
   "source": [
    "# Выполнение анализа на мультиколлинеарность\n",
    "print(\"Multicollinearity check:\")\n",
    "result_df_X, result_df_df, corr_matrix, true_labels = multifactor_linear_regression.feature_analysis()\n",
    "print(\"\\nМатрица факторов X:\\n\",result_df_X)\n",
    "print(\"\\nМатрица факторов с таргетом:\\n\",result_df_df)\n",
    "print(\"\\nОтобранные переменные:\\n\",true_labels)"
   ]
  },
  {
   "cell_type": "code",
   "execution_count": 74,
   "metadata": {},
   "outputs": [
    {
     "name": "stdout",
     "output_type": "stream",
     "text": [
      "\n",
      "Model Summary:\n",
      "                            OLS Regression Results                            \n",
      "==============================================================================\n",
      "Dep. Variable:           growth_total   R-squared:                       0.916\n",
      "Model:                            OLS   Adj. R-squared:                  0.846\n",
      "Method:                 Least Squares   F-statistic:                     13.04\n",
      "Date:                Wed, 11 Dec 2024   Prob (F-statistic):            0.00356\n",
      "Time:                        21:12:08   Log-Likelihood:                -154.96\n",
      "No. Observations:                  12   AIC:                             321.9\n",
      "Df Residuals:                       6   BIC:                             324.8\n",
      "Df Model:                           5                                         \n",
      "Covariance Type:            nonrobust                                         \n",
      "======================================================================================\n",
      "                         coef    std err          t      P>|t|      [0.025      0.975]\n",
      "--------------------------------------------------------------------------------------\n",
      "const              -1.206e+07   3.23e+06     -3.732      0.010      -2e+07   -4.15e+06\n",
      "divorce_total         -5.1804      1.322     -3.919      0.008      -8.415      -1.946\n",
      "marriage_total       119.0289     23.709      5.020      0.002      61.015     177.043\n",
      "LE_total            1.371e+05   4.08e+04      3.361      0.015    3.73e+04    2.37e+05\n",
      "divorce_total_lag1     1.1509      1.292      0.891      0.407      -2.011       4.313\n",
      "divorce_total_lag2     3.3952      1.367      2.483      0.048       0.049       6.741\n",
      "==============================================================================\n",
      "Omnibus:                        0.463   Durbin-Watson:                   2.866\n",
      "Prob(Omnibus):                  0.793   Jarque-Bera (JB):                0.069\n",
      "Skew:                           0.169   Prob(JB):                        0.966\n",
      "Kurtosis:                       2.842   Cond. No.                     8.86e+07\n",
      "==============================================================================\n",
      "\n",
      "Notes:\n",
      "[1] Standard Errors assume that the covariance matrix of the errors is correctly specified.\n",
      "[2] The condition number is large, 8.86e+07. This might indicate that there are\n",
      "strong multicollinearity or other numerical problems.\n"
     ]
    },
    {
     "name": "stderr",
     "output_type": "stream",
     "text": [
      "e:\\GitHubProjects\\educational\\mathematical_modeling\\base_venv10\\lib\\site-packages\\scipy\\stats\\_axis_nan_policy.py:418: UserWarning: `kurtosistest` p-value may be inaccurate with fewer than 20 observations; only n=12 observations were given.\n",
      "  return hypotest_fun_in(*args, **kwds)\n"
     ]
    }
   ],
   "source": [
    "multifactor_linear_regression.estimate_linear_regression(true_labels)\n",
    "print(\"\\nModel Summary:\")\n",
    "print(multifactor_linear_regression.get_summary())"
   ]
  },
  {
   "cell_type": "code",
   "execution_count": 75,
   "metadata": {},
   "outputs": [
    {
     "name": "stdout",
     "output_type": "stream",
     "text": [
      "\n",
      "Model Evaluation:\n",
      "MSE=9634069092.19\n",
      "RMSE=98153.29\n",
      "Relative Error=3.27\n",
      "F-statistic=13.04\n",
      "R-squared=0.92\n",
      "Student t-test=[-3.73 -3.92  5.02  3.36  0.89  2.48]\n"
     ]
    }
   ],
   "source": [
    "print(\"\\nModel Evaluation:\")\n",
    "evaluation_metrics = multifactor_linear_regression.evaluate_model()\n",
    "for k,v in evaluation_metrics.items():\n",
    "    print(f\"{k}={np.round(v,2)}\")"
   ]
  },
  {
   "cell_type": "code",
   "execution_count": 82,
   "metadata": {},
   "outputs": [
    {
     "name": "stdout",
     "output_type": "stream",
     "text": [
      "\n",
      "Prediction for new data:\n"
     ]
    },
    {
     "ename": "KeyError",
     "evalue": "\"None of [Index(['divorce_total', 'marriage_total', 'LE_total', 'divorce_total_lag1',\\n       'divorce_total_lag2'],\\n      dtype='object')] are in the [columns]\"",
     "output_type": "error",
     "traceback": [
      "\u001b[1;31m---------------------------------------------------------------------------\u001b[0m",
      "\u001b[1;31mKeyError\u001b[0m                                  Traceback (most recent call last)",
      "Cell \u001b[1;32mIn[82], line 6\u001b[0m\n\u001b[0;32m      2\u001b[0m new_data \u001b[38;5;241m=\u001b[39m pd\u001b[38;5;241m.\u001b[39mDataFrame({\n\u001b[0;32m      3\u001b[0m     factor: [np\u001b[38;5;241m.\u001b[39mmean(data[factor])] \u001b[38;5;28;01mfor\u001b[39;00m factor \u001b[38;5;129;01min\u001b[39;00m true_labels\n\u001b[0;32m      4\u001b[0m })\n\u001b[0;32m      5\u001b[0m \u001b[38;5;28mprint\u001b[39m(\u001b[38;5;124m\"\u001b[39m\u001b[38;5;130;01m\\n\u001b[39;00m\u001b[38;5;124mPrediction for new data:\u001b[39m\u001b[38;5;124m\"\u001b[39m)\n\u001b[1;32m----> 6\u001b[0m \u001b[38;5;28mprint\u001b[39m(\u001b[43mmultifactor_linear_regression\u001b[49m\u001b[38;5;241;43m.\u001b[39;49m\u001b[43mpredict\u001b[49m\u001b[43m(\u001b[49m\u001b[43mnew_data\u001b[49m\u001b[43m)\u001b[49m)\n",
      "File \u001b[1;32mE:\\GitHubProjects/educational/mathematical_modeling/lab2\\linear_regression.py:178\u001b[0m, in \u001b[0;36mLinearRegressionAnalysis.predict\u001b[1;34m(self, new_data)\u001b[0m\n\u001b[0;32m    176\u001b[0m     \u001b[38;5;28;01mraise\u001b[39;00m \u001b[38;5;167;01mValueError\u001b[39;00m(\u001b[38;5;124m\"\u001b[39m\u001b[38;5;124mNo model has been estimated. Run estimate_linear_regression() first.\u001b[39m\u001b[38;5;124m\"\u001b[39m)\n\u001b[0;32m    177\u001b[0m selected_factors \u001b[38;5;241m=\u001b[39m \u001b[38;5;28mself\u001b[39m\u001b[38;5;241m.\u001b[39mmodel\u001b[38;5;241m.\u001b[39mmodel\u001b[38;5;241m.\u001b[39mexog_names[\u001b[38;5;241m1\u001b[39m:]  \u001b[38;5;66;03m# Исключаем константу\u001b[39;00m\n\u001b[1;32m--> 178\u001b[0m X_new \u001b[38;5;241m=\u001b[39m sm\u001b[38;5;241m.\u001b[39madd_constant(\u001b[43mnew_data\u001b[49m\u001b[43m[\u001b[49m\u001b[43mselected_factors\u001b[49m\u001b[43m]\u001b[49m, has_constant\u001b[38;5;241m=\u001b[39m\u001b[38;5;124m'\u001b[39m\u001b[38;5;124madd\u001b[39m\u001b[38;5;124m'\u001b[39m)\n\u001b[0;32m    179\u001b[0m \u001b[38;5;28;01mreturn\u001b[39;00m \u001b[38;5;28mself\u001b[39m\u001b[38;5;241m.\u001b[39mmodel\u001b[38;5;241m.\u001b[39mpredict(X_new)\n",
      "File \u001b[1;32me:\\GitHubProjects\\educational\\mathematical_modeling\\base_venv10\\lib\\site-packages\\pandas\\core\\frame.py:4108\u001b[0m, in \u001b[0;36mDataFrame.__getitem__\u001b[1;34m(self, key)\u001b[0m\n\u001b[0;32m   4106\u001b[0m     \u001b[38;5;28;01mif\u001b[39;00m is_iterator(key):\n\u001b[0;32m   4107\u001b[0m         key \u001b[38;5;241m=\u001b[39m \u001b[38;5;28mlist\u001b[39m(key)\n\u001b[1;32m-> 4108\u001b[0m     indexer \u001b[38;5;241m=\u001b[39m \u001b[38;5;28;43mself\u001b[39;49m\u001b[38;5;241;43m.\u001b[39;49m\u001b[43mcolumns\u001b[49m\u001b[38;5;241;43m.\u001b[39;49m\u001b[43m_get_indexer_strict\u001b[49m\u001b[43m(\u001b[49m\u001b[43mkey\u001b[49m\u001b[43m,\u001b[49m\u001b[43m \u001b[49m\u001b[38;5;124;43m\"\u001b[39;49m\u001b[38;5;124;43mcolumns\u001b[39;49m\u001b[38;5;124;43m\"\u001b[39;49m\u001b[43m)\u001b[49m[\u001b[38;5;241m1\u001b[39m]\n\u001b[0;32m   4110\u001b[0m \u001b[38;5;66;03m# take() does not accept boolean indexers\u001b[39;00m\n\u001b[0;32m   4111\u001b[0m \u001b[38;5;28;01mif\u001b[39;00m \u001b[38;5;28mgetattr\u001b[39m(indexer, \u001b[38;5;124m\"\u001b[39m\u001b[38;5;124mdtype\u001b[39m\u001b[38;5;124m\"\u001b[39m, \u001b[38;5;28;01mNone\u001b[39;00m) \u001b[38;5;241m==\u001b[39m \u001b[38;5;28mbool\u001b[39m:\n",
      "File \u001b[1;32me:\\GitHubProjects\\educational\\mathematical_modeling\\base_venv10\\lib\\site-packages\\pandas\\core\\indexes\\base.py:6200\u001b[0m, in \u001b[0;36mIndex._get_indexer_strict\u001b[1;34m(self, key, axis_name)\u001b[0m\n\u001b[0;32m   6197\u001b[0m \u001b[38;5;28;01melse\u001b[39;00m:\n\u001b[0;32m   6198\u001b[0m     keyarr, indexer, new_indexer \u001b[38;5;241m=\u001b[39m \u001b[38;5;28mself\u001b[39m\u001b[38;5;241m.\u001b[39m_reindex_non_unique(keyarr)\n\u001b[1;32m-> 6200\u001b[0m \u001b[38;5;28;43mself\u001b[39;49m\u001b[38;5;241;43m.\u001b[39;49m\u001b[43m_raise_if_missing\u001b[49m\u001b[43m(\u001b[49m\u001b[43mkeyarr\u001b[49m\u001b[43m,\u001b[49m\u001b[43m \u001b[49m\u001b[43mindexer\u001b[49m\u001b[43m,\u001b[49m\u001b[43m \u001b[49m\u001b[43maxis_name\u001b[49m\u001b[43m)\u001b[49m\n\u001b[0;32m   6202\u001b[0m keyarr \u001b[38;5;241m=\u001b[39m \u001b[38;5;28mself\u001b[39m\u001b[38;5;241m.\u001b[39mtake(indexer)\n\u001b[0;32m   6203\u001b[0m \u001b[38;5;28;01mif\u001b[39;00m \u001b[38;5;28misinstance\u001b[39m(key, Index):\n\u001b[0;32m   6204\u001b[0m     \u001b[38;5;66;03m# GH 42790 - Preserve name from an Index\u001b[39;00m\n",
      "File \u001b[1;32me:\\GitHubProjects\\educational\\mathematical_modeling\\base_venv10\\lib\\site-packages\\pandas\\core\\indexes\\base.py:6249\u001b[0m, in \u001b[0;36mIndex._raise_if_missing\u001b[1;34m(self, key, indexer, axis_name)\u001b[0m\n\u001b[0;32m   6247\u001b[0m \u001b[38;5;28;01mif\u001b[39;00m nmissing:\n\u001b[0;32m   6248\u001b[0m     \u001b[38;5;28;01mif\u001b[39;00m nmissing \u001b[38;5;241m==\u001b[39m \u001b[38;5;28mlen\u001b[39m(indexer):\n\u001b[1;32m-> 6249\u001b[0m         \u001b[38;5;28;01mraise\u001b[39;00m \u001b[38;5;167;01mKeyError\u001b[39;00m(\u001b[38;5;124mf\u001b[39m\u001b[38;5;124m\"\u001b[39m\u001b[38;5;124mNone of [\u001b[39m\u001b[38;5;132;01m{\u001b[39;00mkey\u001b[38;5;132;01m}\u001b[39;00m\u001b[38;5;124m] are in the [\u001b[39m\u001b[38;5;132;01m{\u001b[39;00maxis_name\u001b[38;5;132;01m}\u001b[39;00m\u001b[38;5;124m]\u001b[39m\u001b[38;5;124m\"\u001b[39m)\n\u001b[0;32m   6251\u001b[0m     not_found \u001b[38;5;241m=\u001b[39m \u001b[38;5;28mlist\u001b[39m(ensure_index(key)[missing_mask\u001b[38;5;241m.\u001b[39mnonzero()[\u001b[38;5;241m0\u001b[39m]]\u001b[38;5;241m.\u001b[39munique())\n\u001b[0;32m   6252\u001b[0m     \u001b[38;5;28;01mraise\u001b[39;00m \u001b[38;5;167;01mKeyError\u001b[39;00m(\u001b[38;5;124mf\u001b[39m\u001b[38;5;124m\"\u001b[39m\u001b[38;5;132;01m{\u001b[39;00mnot_found\u001b[38;5;132;01m}\u001b[39;00m\u001b[38;5;124m not in index\u001b[39m\u001b[38;5;124m\"\u001b[39m)\n",
      "\u001b[1;31mKeyError\u001b[0m: \"None of [Index(['divorce_total', 'marriage_total', 'LE_total', 'divorce_total_lag1',\\n       'divorce_total_lag2'],\\n      dtype='object')] are in the [columns]\""
     ]
    }
   ],
   "source": [
    "# Пример предсказания для новых данных\n",
    "new_data = pd.DataFrame({\n",
    "    factor: [np.mean(data[factor])] for factor in true_labels\n",
    "})\n",
    "print(\"\\nPrediction for new data:\")\n",
    "print(multifactor_linear_regression.predict(new_data))\n"
   ]
  },
  {
   "cell_type": "code",
   "execution_count": 76,
   "metadata": {},
   "outputs": [],
   "source": [
    "data_new = multifactor_linear_regression.extract_consecutive_range(4,11)"
   ]
  },
  {
   "cell_type": "code",
   "execution_count": 81,
   "metadata": {},
   "outputs": [
    {
     "data": {
      "text/html": [
       "<div>\n",
       "<style scoped>\n",
       "    .dataframe tbody tr th:only-of-type {\n",
       "        vertical-align: middle;\n",
       "    }\n",
       "\n",
       "    .dataframe tbody tr th {\n",
       "        vertical-align: top;\n",
       "    }\n",
       "\n",
       "    .dataframe thead th {\n",
       "        text-align: right;\n",
       "    }\n",
       "</style>\n",
       "<table border=\"1\" class=\"dataframe\">\n",
       "  <thead>\n",
       "    <tr style=\"text-align: right;\">\n",
       "      <th></th>\n",
       "      <th>growth_total</th>\n",
       "      <th>divorce_total</th>\n",
       "      <th>marriage_total</th>\n",
       "      <th>LE_total</th>\n",
       "      <th>GDP</th>\n",
       "      <th>divorce_total_lag1</th>\n",
       "      <th>divorce_total_lag2</th>\n",
       "    </tr>\n",
       "  </thead>\n",
       "  <tbody>\n",
       "    <tr>\n",
       "      <th>3</th>\n",
       "      <td>32037</td>\n",
       "      <td>611644</td>\n",
       "      <td>23318</td>\n",
       "      <td>70.0</td>\n",
       "      <td>19838</td>\n",
       "      <td>NaN</td>\n",
       "      <td>NaN</td>\n",
       "    </tr>\n",
       "    <tr>\n",
       "      <th>4</th>\n",
       "      <td>-2287</td>\n",
       "      <td>608334</td>\n",
       "      <td>19848</td>\n",
       "      <td>71.0</td>\n",
       "      <td>20017</td>\n",
       "      <td>611644.0</td>\n",
       "      <td>NaN</td>\n",
       "    </tr>\n",
       "    <tr>\n",
       "      <th>5</th>\n",
       "      <td>-135818</td>\n",
       "      <td>611435</td>\n",
       "      <td>20922</td>\n",
       "      <td>72.0</td>\n",
       "      <td>20133</td>\n",
       "      <td>608334.0</td>\n",
       "      <td>611644.0</td>\n",
       "    </tr>\n",
       "    <tr>\n",
       "      <th>6</th>\n",
       "      <td>-224566</td>\n",
       "      <td>583941</td>\n",
       "      <td>17889</td>\n",
       "      <td>72.0</td>\n",
       "      <td>18909</td>\n",
       "      <td>611435.0</td>\n",
       "      <td>608334.0</td>\n",
       "    </tr>\n",
       "    <tr>\n",
       "      <th>7</th>\n",
       "      <td>-317233</td>\n",
       "      <td>620728</td>\n",
       "      <td>19115</td>\n",
       "      <td>72.5</td>\n",
       "      <td>24223</td>\n",
       "      <td>583941.0</td>\n",
       "      <td>611435.0</td>\n",
       "    </tr>\n",
       "    <tr>\n",
       "      <th>8</th>\n",
       "      <td>-702072</td>\n",
       "      <td>564702</td>\n",
       "      <td>15412</td>\n",
       "      <td>70.5</td>\n",
       "      <td>31999</td>\n",
       "      <td>620728.0</td>\n",
       "      <td>583941.0</td>\n",
       "    </tr>\n",
       "    <tr>\n",
       "      <th>9</th>\n",
       "      <td>-1043341</td>\n",
       "      <td>644208</td>\n",
       "      <td>18424</td>\n",
       "      <td>69.5</td>\n",
       "      <td>29986</td>\n",
       "      <td>564702.0</td>\n",
       "      <td>620728.0</td>\n",
       "    </tr>\n",
       "    <tr>\n",
       "      <th>10</th>\n",
       "      <td>-594557</td>\n",
       "      <td>682850</td>\n",
       "      <td>21271</td>\n",
       "      <td>72.0</td>\n",
       "      <td>38507</td>\n",
       "      <td>644208.0</td>\n",
       "      <td>564702.0</td>\n",
       "    </tr>\n",
       "  </tbody>\n",
       "</table>\n",
       "</div>"
      ],
      "text/plain": [
       "    growth_total  divorce_total  marriage_total  LE_total    GDP  \\\n",
       "3          32037         611644           23318      70.0  19838   \n",
       "4          -2287         608334           19848      71.0  20017   \n",
       "5        -135818         611435           20922      72.0  20133   \n",
       "6        -224566         583941           17889      72.0  18909   \n",
       "7        -317233         620728           19115      72.5  24223   \n",
       "8        -702072         564702           15412      70.5  31999   \n",
       "9       -1043341         644208           18424      69.5  29986   \n",
       "10       -594557         682850           21271      72.0  38507   \n",
       "\n",
       "    divorce_total_lag1  divorce_total_lag2  \n",
       "3                  NaN                 NaN  \n",
       "4             611644.0                 NaN  \n",
       "5             608334.0            611644.0  \n",
       "6             611435.0            608334.0  \n",
       "7             583941.0            611435.0  \n",
       "8             620728.0            583941.0  \n",
       "9             564702.0            620728.0  \n",
       "10            644208.0            564702.0  "
      ]
     },
     "execution_count": 81,
     "metadata": {},
     "output_type": "execute_result"
    }
   ],
   "source": [
    "data_new"
   ]
  },
  {
   "cell_type": "code",
   "execution_count": 77,
   "metadata": {},
   "outputs": [
    {
     "name": "stdout",
     "output_type": "stream",
     "text": [
      "Multicollinearity check:\n",
      "\n",
      "Матрица факторов X:\n",
      "               feature  multicollinearity  tightness response\n",
      "0       divorce_total              False      False        -\n",
      "1      marriage_total              False      False        +\n",
      "2            LE_total              False      False        +\n",
      "3                 GDP               True      False        -\n",
      "4  divorce_total_lag1              False      False        +\n",
      "5  divorce_total_lag2               True      False        +\n",
      "\n",
      "Матрица факторов с таргетом:\n",
      "                      feature  multicollinearity tightness response\n",
      "0       target_divorce_total              False      None     None\n",
      "1      target_marriage_total              False      None     None\n",
      "2            target_LE_total              False      None     None\n",
      "3                 target_GDP               True      None     None\n",
      "4  target_divorce_total_lag1              False      None     None\n",
      "5  target_divorce_total_lag2              False      None     None\n",
      "\n",
      "Отобранные переменные:\n",
      " ['divorce_total' 'marriage_total' 'LE_total' 'divorce_total_lag1']\n",
      "\n",
      "Добавление лага для divorce_total:\n",
      "   growth_total  divorce_total  marriage_total  LE_total    GDP  \\\n",
      "0       -135818         611435           20922      72.0  20133   \n",
      "1       -224566         583941           17889      72.0  18909   \n",
      "2       -317233         620728           19115      72.5  24223   \n",
      "3       -702072         564702           15412      70.5  31999   \n",
      "4      -1043341         644208           18424      69.5  29986   \n",
      "\n",
      "   divorce_total_lag1  divorce_total_lag2  \n",
      "0            608334.0            611644.0  \n",
      "1            611435.0            608334.0  \n",
      "2            583941.0            611435.0  \n",
      "3            620728.0            583941.0  \n",
      "4            564702.0            620728.0  \n",
      "Multicollinearity check:\n",
      "\n",
      "Матрица факторов X:\n",
      "               feature  multicollinearity  tightness response\n",
      "0       divorce_total               True      False        -\n",
      "1      marriage_total               True      False        +\n",
      "2            LE_total               True      False        +\n",
      "3                 GDP               True      False        -\n",
      "4  divorce_total_lag1               True      False        +\n",
      "5  divorce_total_lag2               True      False        +\n",
      "\n",
      "Матрица факторов с таргетом:\n",
      "                      feature  multicollinearity tightness response\n",
      "0       target_divorce_total              False      None     None\n",
      "1      target_marriage_total              False      None     None\n",
      "2            target_LE_total               True      None     None\n",
      "3                 target_GDP              False      None     None\n",
      "4  target_divorce_total_lag1              False      None     None\n",
      "5  target_divorce_total_lag2              False      None     None\n",
      "\n",
      "Отобранные переменные:\n",
      " []\n",
      "\n",
      "Model Summary:\n",
      "                            OLS Regression Results                            \n",
      "==============================================================================\n",
      "Dep. Variable:           growth_total   R-squared:                      -0.000\n",
      "Model:                            OLS   Adj. R-squared:                 -0.000\n",
      "Method:                 Least Squares   F-statistic:                       nan\n",
      "Date:                Wed, 11 Dec 2024   Prob (F-statistic):                nan\n",
      "Time:                        21:12:09   Log-Likelihood:                -84.432\n",
      "No. Observations:                   6   AIC:                             170.9\n",
      "Df Residuals:                       5   BIC:                             170.7\n",
      "Df Model:                           0                                         \n",
      "Covariance Type:            nonrobust                                         \n",
      "==============================================================================\n",
      "                 coef    std err          t      P>|t|      [0.025      0.975]\n",
      "------------------------------------------------------------------------------\n",
      "const      -5.029e+05    1.4e+05     -3.596      0.016   -8.62e+05   -1.43e+05\n",
      "==============================================================================\n",
      "Omnibus:                          nan   Durbin-Watson:                   0.822\n",
      "Prob(Omnibus):                    nan   Jarque-Bera (JB):                0.508\n",
      "Skew:                          -0.485   Prob(JB):                        0.776\n",
      "Kurtosis:                       1.956   Cond. No.                         1.00\n",
      "==============================================================================\n",
      "\n",
      "Notes:\n",
      "[1] Standard Errors assume that the covariance matrix of the errors is correctly specified.\n"
     ]
    },
    {
     "name": "stderr",
     "output_type": "stream",
     "text": [
      "E:\\GitHubProjects/educational/mathematical_modeling/lab2\\linear_regression.py:143: SettingWithCopyWarning: \n",
      "A value is trying to be set on a copy of a slice from a DataFrame.\n",
      "Try using .loc[row_indexer,col_indexer] = value instead\n",
      "\n",
      "See the caveats in the documentation: https://pandas.pydata.org/pandas-docs/stable/user_guide/indexing.html#returning-a-view-versus-a-copy\n",
      "  self.data[f'{feature_name}_lag{lag}'] = self.data[feature_name].shift(lag)\n",
      "e:\\GitHubProjects\\educational\\mathematical_modeling\\base_venv10\\lib\\site-packages\\statsmodels\\stats\\stattools.py:74: ValueWarning: omni_normtest is not valid with less than 8 observations; 6 samples were given.\n",
      "  warn(\"omni_normtest is not valid with less than 8 observations; %i \"\n"
     ]
    }
   ],
   "source": [
    "multifactor_linear_regression1 = lin_reg.LinearRegressionAnalysis(data_new, 'growth_total')\n",
    "# Выполнение анализа на мультиколлинеарность\n",
    "print(\"Multicollinearity check:\")\n",
    "result_df_X, result_df_df, corr_matrix, true_labels = multifactor_linear_regression1.feature_analysis()\n",
    "print(\"\\nМатрица факторов X:\\n\",result_df_X)\n",
    "print(\"\\nМатрица факторов с таргетом:\\n\",result_df_df)\n",
    "print(\"\\nОтобранные переменные:\\n\",true_labels)\n",
    "data_with_lags_X1 = multifactor_linear_regression1.add_lag_to_feature(feature_name='divorce_total', max_lag=2)\n",
    "print(\"\\nДобавление лага для divorce_total:\")\n",
    "print(data_with_lags_X1.head())\n",
    "# Выполнение анализа на мультиколлинеарность\n",
    "print(\"Multicollinearity check:\")\n",
    "result_df_X, result_df_df, corr_matrix, true_labels = multifactor_linear_regression1.feature_analysis()\n",
    "print(\"\\nМатрица факторов X:\\n\",result_df_X)\n",
    "print(\"\\nМатрица факторов с таргетом:\\n\",result_df_df)\n",
    "print(\"\\nОтобранные переменные:\\n\",true_labels)\n",
    "multifactor_linear_regression1.estimate_linear_regression(true_labels)\n",
    "print(\"\\nModel Summary:\")\n",
    "print(multifactor_linear_regression1.get_summary())"
   ]
  },
  {
   "cell_type": "code",
   "execution_count": 79,
   "metadata": {},
   "outputs": [
    {
     "name": "stdout",
     "output_type": "stream",
     "text": [
      "\n",
      "Model Evaluation:\n",
      "MSE=8984804642.14\n",
      "RMSE=94788.21\n",
      "Relative Error=3.7\n",
      "F-statistic=13.04\n",
      "R-squared=0.92\n",
      "Student t-test=[-3.73 -3.92  5.02  3.36  0.89  2.48]\n"
     ]
    }
   ],
   "source": [
    "print(\"\\nModel Evaluation:\")\n",
    "evaluation_metrics = multifactor_linear_regression.evaluate_model()\n",
    "for k,v in evaluation_metrics.items():\n",
    "    print(f\"{k}={np.round(v,2)}\")"
   ]
  },
  {
   "cell_type": "code",
   "execution_count": null,
   "metadata": {},
   "outputs": [],
   "source": []
  },
  {
   "cell_type": "code",
   "execution_count": null,
   "metadata": {},
   "outputs": [],
   "source": []
  },
  {
   "cell_type": "code",
   "execution_count": null,
   "metadata": {},
   "outputs": [],
   "source": []
  },
  {
   "cell_type": "code",
   "execution_count": null,
   "metadata": {},
   "outputs": [
    {
     "name": "stdout",
     "output_type": "stream",
     "text": [
      "\n",
      "Model Evaluation:\n",
      "MSE=8984804642.14\n",
      "RMSE=94788.21\n",
      "Relative Error=3.7\n",
      "F-statistic=13.04\n",
      "R-squared=0.92\n",
      "Student t-test=[-3.73 -3.92  5.02  3.36  0.89  2.48]\n"
     ]
    }
   ],
   "source": []
  },
  {
   "cell_type": "code",
   "execution_count": null,
   "metadata": {},
   "outputs": [],
   "source": []
  },
  {
   "cell_type": "code",
   "execution_count": null,
   "metadata": {},
   "outputs": [],
   "source": []
  }
 ],
 "metadata": {
  "kernelspec": {
   "display_name": "base_venv10",
   "language": "python",
   "name": "python3"
  },
  "language_info": {
   "codemirror_mode": {
    "name": "ipython",
    "version": 3
   },
   "file_extension": ".py",
   "mimetype": "text/x-python",
   "name": "python",
   "nbconvert_exporter": "python",
   "pygments_lexer": "ipython3",
   "version": "3.10.0"
  }
 },
 "nbformat": 4,
 "nbformat_minor": 2
}
