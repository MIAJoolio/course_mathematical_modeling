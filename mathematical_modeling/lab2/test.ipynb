{
 "cells": [
  {
   "cell_type": "code",
   "execution_count": 5,
   "metadata": {},
   "outputs": [],
   "source": [
    "import os\n",
    "os.chdir('E:/GitHubProjects/educational/mathematical_modeling/')\n",
    "import glob\n",
    "from typing import Tuple, Literal\n",
    "import argparse\n",
    "from itertools import combinations\n",
    "\n",
    "import numpy as np\n",
    "import pandas as pd\n",
    "\n",
    "import statsmodels.api as sm\n",
    "from sklearn.metrics import mean_squared_error\n",
    "from scipy.stats import pearsonr\n",
    "\n",
    "import seaborn as sns\n",
    "import matplotlib.pyplot as plt\n"
   ]
  },
  {
   "cell_type": "code",
   "execution_count": 6,
   "metadata": {},
   "outputs": [],
   "source": [
    "def eval_corr_features(X, threshold=0.7, return_type:Literal['list','df']='list'):\n",
    "    \"\"\"\n",
    "    Функция, которая признаки с нулевым (rij=0) и высоким (выше порога) значением корреляции. Использование функций необъодимо при оценке:\n",
    "    \n",
    "    1. анализ тесноты \n",
    "    2. оценка мультиколлинеарности\n",
    "    \"\"\"\n",
    "    \n",
    "    correlation_matrix = X.corr()\n",
    "    correlated = [\n",
    "            (i, j, correlation_matrix.loc[i, j]) \n",
    "            for i, j in combinations(correlation_matrix.columns, 2)\n",
    "            if abs(correlation_matrix.loc[i, j]) >= threshold]\n",
    "    \n",
    "    if return_type == 'list':\n",
    "        return correlated\n",
    "    else:\n",
    "        return pd.DataFrame(correlated, columns=['factor_1','factor_2','corr_value'])\n"
   ]
  },
  {
   "cell_type": "code",
   "execution_count": 10,
   "metadata": {},
   "outputs": [],
   "source": [
    "data = pd.read_csv('lab2/data/final_dataset.txt', sep=';')"
   ]
  },
  {
   "cell_type": "code",
   "execution_count": 11,
   "metadata": {},
   "outputs": [
    {
     "data": {
      "text/plain": [
       "[('growth_total', 'GDP', np.float64(-0.8111669757341613)),\n",
       " ('marriage_total', 'migration', np.float64(0.8718572332178485)),\n",
       " ('LE_total', 'migration', np.float64(-0.8013457152521691)),\n",
       " ('GDP', 'migration', np.float64(-0.7033657234073019))]"
      ]
     },
     "execution_count": 11,
     "metadata": {},
     "output_type": "execute_result"
    }
   ],
   "source": [
    "eval_corr_features(data)"
   ]
  },
  {
   "cell_type": "code",
   "execution_count": 49,
   "metadata": {},
   "outputs": [
    {
     "name": "stdout",
     "output_type": "stream",
     "text": [
      "Результаты для X:\n",
      "  feature  multicollinearity  tightness response\n",
      "0      X1              False      False        +\n",
      "1      X2               True      False        -\n",
      "2      X3              False      False        +\n",
      "\n",
      "Результаты для df (только таргет):\n",
      "     feature  multicollinearity tightness response\n",
      "0  target_X1              False      None     None\n",
      "1  target_X2               True      None     None\n",
      "2  target_X3              False      None     None\n",
      "\n",
      "Корреляционная матрица для df:\n",
      "              X1        X2        X3    target\n",
      "X1      1.000000 -0.681852  0.626747  0.681852\n",
      "X2     -0.681852  1.000000 -0.281845 -1.000000\n",
      "X3      0.626747 -0.281845  1.000000  0.281845\n",
      "target  0.681852 -1.000000  0.281845  1.000000\n",
      "['X1' 'X3']\n"
     ]
    }
   ],
   "source": [
    "def feature_analysis(df):\n",
    "    # Вычисляем корреляционную матрицу для всего DataFrame (включая таргет)\n",
    "    corr_matrix = df.corr()\n",
    "    \n",
    "    # Разделим данные на предикторы (X) и таргет (y)\n",
    "    X = df.iloc[:, :-1]  # Все столбцы, кроме последнего (предикторы)\n",
    "    y = df.iloc[:, -1]   # Последний столбец (таргет)\n",
    "    \n",
    "    # Создаем список для результатов для X\n",
    "    results_X = []\n",
    "    for feature in X.columns:\n",
    "        # Мультиколлинеарность для X: проверка на пороговое значение корреляции с другими предикторами\n",
    "        multicollinearity_X = any(abs(corr_matrix[feature].drop(feature)) > 0.7)  # исключаем само-сравнение\n",
    "        \n",
    "        # Теснота для X: корреляция с таргетом\n",
    "        target_correlation_X = corr_matrix[feature]['target']\n",
    "        tightness_X = abs(target_correlation_X) < 0.01  # если корреляция с таргетом меньше 0.01\n",
    "        \n",
    "        # Отклик для X: определяем знак корреляции с таргетом\n",
    "        response_X = None\n",
    "    \n",
    "        if target_correlation_X > 0:\n",
    "            response_X = \"+\"\n",
    "        elif target_correlation_X < 0:\n",
    "            response_X = \"-\"\n",
    "    \n",
    "        # Добавляем информацию в результат\n",
    "        results_X.append({\n",
    "            \"feature\": feature,\n",
    "            \"multicollinearity\": multicollinearity_X,\n",
    "            \"tightness\": tightness_X,\n",
    "            \"response\": response_X\n",
    "        })\n",
    "    \n",
    "    # Результаты только для таргета в df\n",
    "    target_results = []\n",
    "    \n",
    "    # Мультиколлинеарность для таргета: проверка на пороговое значение корреляции с предикторами\n",
    "    for feature in X.columns:\n",
    "        multicollinearity_df = abs(corr_matrix[\"target\"][feature]) > 0.7  # проверка на мультиколлинеарность с предикторами\n",
    "        target_results.append({\n",
    "            \"feature\": f\"target_{feature}\",  # Формируем строку вида target_X1, target_X2 и т.д.\n",
    "            \"multicollinearity\": multicollinearity_df,\n",
    "            \"tightness\": None,  # Таргет не может иметь тесноту, так как это отклик\n",
    "            \"response\": None\n",
    "        })\n",
    "    \n",
    "    # Преобразуем список в DataFrame для X\n",
    "    result_df_X = pd.DataFrame(results_X)\n",
    "    result_df_df = pd.DataFrame(target_results)\n",
    "\n",
    "    true_labels = result_df_X.loc[(result_df_X.multicollinearity==False)&(result_df_X.tightness==False)&(result_df_X.response=='+'), 'feature'].values\n",
    "    \n",
    "    # Вернем два результата и одну матрицу корреляции\n",
    "    return result_df_X, result_df_df, corr_matrix, true_labels\n",
    "\n",
    "# Пример использования\n",
    "data = {\n",
    "    'X1': [-312, 112, 258, 903, 233],\n",
    "    'X2': [5, 4, 3, 2, 1],\n",
    "    'X3': [20, 123, -1293, 2031, 123],\n",
    "    'target': [1, 2, 3, 4, 5]\n",
    "}\n",
    "\n",
    "df = pd.DataFrame(data)\n",
    "\n",
    "# Применяем функцию\n",
    "result_df_X, result_df_df, corr_matrix, lbls = feature_analysis(df)\n",
    "\n",
    "# Выводим результаты\n",
    "print(\"Результаты для X:\")\n",
    "print(result_df_X)\n",
    "print(\"\\nРезультаты для df (только таргет):\")\n",
    "print(result_df_df)\n",
    "print(\"\\nКорреляционная матрица для df:\")\n",
    "print(corr_matrix)\n",
    "print(lbls)"
   ]
  },
  {
   "cell_type": "code",
   "execution_count": 35,
   "metadata": {},
   "outputs": [
    {
     "data": {
      "text/html": [
       "<div>\n",
       "<style scoped>\n",
       "    .dataframe tbody tr th:only-of-type {\n",
       "        vertical-align: middle;\n",
       "    }\n",
       "\n",
       "    .dataframe tbody tr th {\n",
       "        vertical-align: top;\n",
       "    }\n",
       "\n",
       "    .dataframe thead th {\n",
       "        text-align: right;\n",
       "    }\n",
       "</style>\n",
       "<table border=\"1\" class=\"dataframe\">\n",
       "  <thead>\n",
       "    <tr style=\"text-align: right;\">\n",
       "      <th></th>\n",
       "      <th>feature</th>\n",
       "      <th>multicollinearity</th>\n",
       "      <th>tightness</th>\n",
       "      <th>response</th>\n",
       "    </tr>\n",
       "  </thead>\n",
       "  <tbody>\n",
       "    <tr>\n",
       "      <th>0</th>\n",
       "      <td>X1</td>\n",
       "      <td>False</td>\n",
       "      <td>False</td>\n",
       "      <td>+</td>\n",
       "    </tr>\n",
       "    <tr>\n",
       "      <th>1</th>\n",
       "      <td>X2</td>\n",
       "      <td>True</td>\n",
       "      <td>False</td>\n",
       "      <td>-</td>\n",
       "    </tr>\n",
       "    <tr>\n",
       "      <th>2</th>\n",
       "      <td>X3</td>\n",
       "      <td>False</td>\n",
       "      <td>False</td>\n",
       "      <td>+</td>\n",
       "    </tr>\n",
       "    <tr>\n",
       "      <th>3</th>\n",
       "      <td>target</td>\n",
       "      <td>True</td>\n",
       "      <td>False</td>\n",
       "      <td>None</td>\n",
       "    </tr>\n",
       "  </tbody>\n",
       "</table>\n",
       "</div>"
      ],
      "text/plain": [
       "  feature  multicollinearity  tightness response\n",
       "0      X1              False      False        +\n",
       "1      X2               True      False        -\n",
       "2      X3              False      False        +\n",
       "3  target               True      False     None"
      ]
     },
     "execution_count": 35,
     "metadata": {},
     "output_type": "execute_result"
    }
   ],
   "source": [
    "result_df"
   ]
  },
  {
   "cell_type": "code",
   "execution_count": 27,
   "metadata": {},
   "outputs": [
    {
     "data": {
      "text/html": [
       "<div>\n",
       "<style scoped>\n",
       "    .dataframe tbody tr th:only-of-type {\n",
       "        vertical-align: middle;\n",
       "    }\n",
       "\n",
       "    .dataframe tbody tr th {\n",
       "        vertical-align: top;\n",
       "    }\n",
       "\n",
       "    .dataframe thead th {\n",
       "        text-align: right;\n",
       "    }\n",
       "</style>\n",
       "<table border=\"1\" class=\"dataframe\">\n",
       "  <thead>\n",
       "    <tr style=\"text-align: right;\">\n",
       "      <th></th>\n",
       "      <th>X1</th>\n",
       "      <th>X2</th>\n",
       "      <th>X3</th>\n",
       "    </tr>\n",
       "  </thead>\n",
       "  <tbody>\n",
       "    <tr>\n",
       "      <th>X1</th>\n",
       "      <td>1.000000</td>\n",
       "      <td>-0.681852</td>\n",
       "      <td>0.626747</td>\n",
       "    </tr>\n",
       "    <tr>\n",
       "      <th>X2</th>\n",
       "      <td>-0.681852</td>\n",
       "      <td>1.000000</td>\n",
       "      <td>-0.281845</td>\n",
       "    </tr>\n",
       "    <tr>\n",
       "      <th>X3</th>\n",
       "      <td>0.626747</td>\n",
       "      <td>-0.281845</td>\n",
       "      <td>1.000000</td>\n",
       "    </tr>\n",
       "  </tbody>\n",
       "</table>\n",
       "</div>"
      ],
      "text/plain": [
       "          X1        X2        X3\n",
       "X1  1.000000 -0.681852  0.626747\n",
       "X2 -0.681852  1.000000 -0.281845\n",
       "X3  0.626747 -0.281845  1.000000"
      ]
     },
     "execution_count": 27,
     "metadata": {},
     "output_type": "execute_result"
    }
   ],
   "source": [
    "corr_matrix"
   ]
  },
  {
   "cell_type": "code",
   "execution_count": 51,
   "metadata": {},
   "outputs": [],
   "source": [
    "data_dict = {\n",
    "    'X1': [-312, 112, 258, 903, 233,-312, 112, 258, 903, 233,-312, 112, 258, 903, 233,-312, 112, 258, 903, 233],\n",
    "    'X2': [5, 4, 3, 2, 1,5, 4, 3, 2, 1,5, 4, 3, 2, 1,5, 4, 3, 2, 1],\n",
    "    'X3': [20, 123, -1293, 2031, 123,20, 123, -1293, 2031, 123,20, 123, -1293, 2031, 123,20, 123, -1293, 2031, 123],\n",
    "    'target': [1, 2, 3, 4, 5,1, 2, 3, 4, 5,1, 2, 3, 4, 5,1, 2, 3, 4, 5]\n",
    "}\n",
    "\n",
    "data = pd.DataFrame(data_dict)"
   ]
  },
  {
   "cell_type": "code",
   "execution_count": 2,
   "metadata": {},
   "outputs": [],
   "source": [
    "from sktime.datasets import load_shampoo_sales\n",
    "y = load_shampoo_sales()"
   ]
  },
  {
   "cell_type": "code",
   "execution_count": null,
   "metadata": {},
   "outputs": [],
   "source": []
  }
 ],
 "metadata": {
  "kernelspec": {
   "display_name": "base_venv10",
   "language": "python",
   "name": "python3"
  },
  "language_info": {
   "codemirror_mode": {
    "name": "ipython",
    "version": 3
   },
   "file_extension": ".py",
   "mimetype": "text/x-python",
   "name": "python",
   "nbconvert_exporter": "python",
   "pygments_lexer": "ipython3",
   "version": "3.10.0"
  }
 },
 "nbformat": 4,
 "nbformat_minor": 2
}
